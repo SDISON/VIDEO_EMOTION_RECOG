{
  "nbformat": 4,
  "nbformat_minor": 0,
  "metadata": {
    "colab": {
      "name": "vgg-lstm.ipynb",
      "provenance": [],
      "collapsed_sections": [],
      "machine_shape": "hm"
    },
    "kernelspec": {
      "name": "python3",
      "display_name": "Python 3"
    },
    "accelerator": "TPU"
  },
  "cells": [
    {
      "cell_type": "code",
      "metadata": {
        "id": "AjRkgE99UHDy",
        "colab_type": "code",
        "colab": {
          "base_uri": "https://localhost:8080/",
          "height": 124
        },
        "outputId": "431179ea-08c7-40e2-ea13-80dc8aa2e20a"
      },
      "source": [
        "from google.colab import drive\n",
        "drive.mount('/content/drive')"
      ],
      "execution_count": null,
      "outputs": [
        {
          "output_type": "stream",
          "text": [
            "Go to this URL in a browser: https://accounts.google.com/o/oauth2/auth?client_id=947318989803-6bn6qk8qdgf4n4g3pfee6491hc0brc4i.apps.googleusercontent.com&redirect_uri=urn%3aietf%3awg%3aoauth%3a2.0%3aoob&response_type=code&scope=email%20https%3a%2f%2fwww.googleapis.com%2fauth%2fdocs.test%20https%3a%2f%2fwww.googleapis.com%2fauth%2fdrive%20https%3a%2f%2fwww.googleapis.com%2fauth%2fdrive.photos.readonly%20https%3a%2f%2fwww.googleapis.com%2fauth%2fpeopleapi.readonly\n",
            "\n",
            "Enter your authorization code:\n",
            "··········\n",
            "Mounted at /content/drive\n"
          ],
          "name": "stdout"
        }
      ]
    },
    {
      "cell_type": "code",
      "metadata": {
        "id": "5PIq4MMVUoXY",
        "colab_type": "code",
        "colab": {}
      },
      "source": [
        "!cp \"/content/drive/My Drive/data_train.zip\" \"/content/\" "
      ],
      "execution_count": null,
      "outputs": []
    },
    {
      "cell_type": "code",
      "metadata": {
        "id": "G1CAxkEE2WGA",
        "colab_type": "code",
        "colab": {
          "base_uri": "https://localhost:8080/",
          "height": 394
        },
        "outputId": "3d9ec722-fa6c-4912-bdcd-50efc8a8c5bc"
      },
      "source": [
        "#data_test\n",
        "#!wget --load-cookies /tmp/cookies.txt \"https://docs.google.com/uc?export=download&confirm=$(wget --quiet --save-cookies /tmp/cookies.txt --keep-session-cookies --no-check-certificate 'https://docs.google.com/uc?export=download&id=1-4JBeNhMN0ouKnMTQ3_d-N8CnPKoRo3q' -O- | sed -rn 's/.*confirm=([0-9A-Za-z_]+).*/\\1\\n/p')&id=1-4JBeNhMN0ouKnMTQ3_d-N8CnPKoRo3q\" -O '/content/data_test.zip' && rm -rf /tmp/cookies.txt"
      ],
      "execution_count": null,
      "outputs": [
        {
          "output_type": "stream",
          "text": [
            "--2020-05-14 02:47:04--  https://docs.google.com/uc?export=download&confirm=wd72&id=1-4JBeNhMN0ouKnMTQ3_d-N8CnPKoRo3q\n",
            "Resolving docs.google.com (docs.google.com)... 74.125.202.102, 74.125.202.101, 74.125.202.100, ...\n",
            "Connecting to docs.google.com (docs.google.com)|74.125.202.102|:443... connected.\n",
            "HTTP request sent, awaiting response... 302 Moved Temporarily\n",
            "Location: https://doc-10-1k-docs.googleusercontent.com/docs/securesc/3b0rl33noe9loaok5jfs4bi9okkd0isa/6id0qppv4ocacisq460j0lcp2dhleck0/1589424375000/00000690075816067833/15181186530602129219Z/1-4JBeNhMN0ouKnMTQ3_d-N8CnPKoRo3q?e=download [following]\n",
            "--2020-05-14 02:47:04--  https://doc-10-1k-docs.googleusercontent.com/docs/securesc/3b0rl33noe9loaok5jfs4bi9okkd0isa/6id0qppv4ocacisq460j0lcp2dhleck0/1589424375000/00000690075816067833/15181186530602129219Z/1-4JBeNhMN0ouKnMTQ3_d-N8CnPKoRo3q?e=download\n",
            "Resolving doc-10-1k-docs.googleusercontent.com (doc-10-1k-docs.googleusercontent.com)... 172.217.214.132, 2607:f8b0:4001:c05::84\n",
            "Connecting to doc-10-1k-docs.googleusercontent.com (doc-10-1k-docs.googleusercontent.com)|172.217.214.132|:443... connected.\n",
            "HTTP request sent, awaiting response... 302 Found\n",
            "Location: https://docs.google.com/nonceSigner?nonce=9i00jibhh1qe0&continue=https://doc-10-1k-docs.googleusercontent.com/docs/securesc/3b0rl33noe9loaok5jfs4bi9okkd0isa/6id0qppv4ocacisq460j0lcp2dhleck0/1589424375000/00000690075816067833/15181186530602129219Z/1-4JBeNhMN0ouKnMTQ3_d-N8CnPKoRo3q?e%3Ddownload&hash=u62ruhufvfgfk8s9dolj8vdojetn7vcu [following]\n",
            "--2020-05-14 02:47:04--  https://docs.google.com/nonceSigner?nonce=9i00jibhh1qe0&continue=https://doc-10-1k-docs.googleusercontent.com/docs/securesc/3b0rl33noe9loaok5jfs4bi9okkd0isa/6id0qppv4ocacisq460j0lcp2dhleck0/1589424375000/00000690075816067833/15181186530602129219Z/1-4JBeNhMN0ouKnMTQ3_d-N8CnPKoRo3q?e%3Ddownload&hash=u62ruhufvfgfk8s9dolj8vdojetn7vcu\n",
            "Connecting to docs.google.com (docs.google.com)|74.125.202.102|:443... connected.\n",
            "HTTP request sent, awaiting response... 302 Found\n",
            "Location: https://doc-10-1k-docs.googleusercontent.com/docs/securesc/3b0rl33noe9loaok5jfs4bi9okkd0isa/6id0qppv4ocacisq460j0lcp2dhleck0/1589424375000/00000690075816067833/15181186530602129219Z/1-4JBeNhMN0ouKnMTQ3_d-N8CnPKoRo3q?e=download&nonce=9i00jibhh1qe0&user=15181186530602129219Z&hash=9dd0ftbkk1ukdl1s3mk89e9nf44t6bd4 [following]\n",
            "--2020-05-14 02:47:05--  https://doc-10-1k-docs.googleusercontent.com/docs/securesc/3b0rl33noe9loaok5jfs4bi9okkd0isa/6id0qppv4ocacisq460j0lcp2dhleck0/1589424375000/00000690075816067833/15181186530602129219Z/1-4JBeNhMN0ouKnMTQ3_d-N8CnPKoRo3q?e=download&nonce=9i00jibhh1qe0&user=15181186530602129219Z&hash=9dd0ftbkk1ukdl1s3mk89e9nf44t6bd4\n",
            "Connecting to doc-10-1k-docs.googleusercontent.com (doc-10-1k-docs.googleusercontent.com)|172.217.214.132|:443... connected.\n",
            "HTTP request sent, awaiting response... 200 OK\n",
            "Length: unspecified [application/zip]\n",
            "Saving to: ‘/content/data_test.zip’\n",
            "\n",
            "/content/data_test.     [                <=> ]   1.05G  73.8MB/s               ^C\n"
          ],
          "name": "stdout"
        }
      ]
    },
    {
      "cell_type": "code",
      "metadata": {
        "id": "t13OQVgvWcK5",
        "colab_type": "code",
        "colab": {}
      },
      "source": [
        "!unzip -qq '/content/data_train.zip'"
      ],
      "execution_count": null,
      "outputs": []
    },
    {
      "cell_type": "code",
      "metadata": {
        "id": "NwQ3XBcy2bw-",
        "colab_type": "code",
        "colab": {
          "base_uri": "https://localhost:8080/",
          "height": 228
        },
        "outputId": "4f29ba97-7ecb-4591-cfed-4e97426c7a3b"
      },
      "source": [
        "#data_val\n",
        "!wget --load-cookies /tmp/cookies.txt \"https://docs.google.com/uc?export=download&confirm=$(wget --quiet --save-cookies /tmp/cookies.txt --keep-session-cookies --no-check-certificate 'https://docs.google.com/uc?export=download&id=1-1u-7qDEj7v-gG4gU2uQIVLyCXi2X98H' -O- | sed -rn 's/.*confirm=([0-9A-Za-z_]+).*/\\1\\n/p')&id=1-1u-7qDEj7v-gG4gU2uQIVLyCXi2X98H\" -O '/content/data_val.zip' && rm -rf /tmp/cookies.txt"
      ],
      "execution_count": null,
      "outputs": [
        {
          "output_type": "stream",
          "text": [
            "--2020-05-14 10:13:01--  https://docs.google.com/uc?export=download&confirm=&id=1-1u-7qDEj7v-gG4gU2uQIVLyCXi2X98H\n",
            "Resolving docs.google.com (docs.google.com)... 172.217.212.139, 172.217.212.138, 172.217.212.102, ...\n",
            "Connecting to docs.google.com (docs.google.com)|172.217.212.139|:443... connected.\n",
            "HTTP request sent, awaiting response... 200 OK\n",
            "Length: unspecified [text/html]\n",
            "Saving to: ‘/content/data_val.zip’\n",
            "\n",
            "\r/content/data_val.z     [<=>                 ]       0  --.-KB/s               \r/content/data_val.z     [ <=>                ]   3.03K  --.-KB/s    in 0s      \n",
            "\n",
            "2020-05-14 10:13:01 (49.3 MB/s) - ‘/content/data_val.zip’ saved [3103]\n",
            "\n"
          ],
          "name": "stdout"
        }
      ]
    },
    {
      "cell_type": "code",
      "metadata": {
        "id": "Zjzp_Oy02fT2",
        "colab_type": "code",
        "colab": {}
      },
      "source": [
        "#!unzip -qq '/content/data_test.zip'"
      ],
      "execution_count": null,
      "outputs": []
    },
    {
      "cell_type": "code",
      "metadata": {
        "id": "EXtGKhxt2gw7",
        "colab_type": "code",
        "colab": {}
      },
      "source": [
        "#unzip -qq '/content/data_val.zip'"
      ],
      "execution_count": null,
      "outputs": []
    },
    {
      "cell_type": "code",
      "metadata": {
        "id": "ScGK_dmu41vq",
        "colab_type": "code",
        "colab": {}
      },
      "source": [
        "#!mv '/content/content/content/data/test' '/content/content/data'"
      ],
      "execution_count": null,
      "outputs": []
    },
    {
      "cell_type": "code",
      "metadata": {
        "id": "O21URCDG7Up5",
        "colab_type": "code",
        "colab": {
          "base_uri": "https://localhost:8080/",
          "height": 34
        },
        "outputId": "760ab019-ee8a-40ab-dd9e-7a547f0c386e"
      },
      "source": [
        "import cv2\n",
        "import os\n",
        "from imutils import face_utils\n",
        "from tqdm import tqdm\n",
        "from PIL import Image\n",
        "import dlib\n",
        "import random\n",
        "import numpy as np\n",
        "from sklearn.utils import shuffle\n",
        "from sklearn.model_selection import train_test_split\n",
        "from sklearn.metrics import accuracy_score\n",
        "import imutils\n",
        "from keras.applications import VGG16\n",
        "from keras import models\n",
        "from keras import layers\n",
        "from numpy import array\n",
        "from tqdm import tqdm\n",
        "from sklearn.utils import shuffle\n",
        "from sklearn.model_selection import train_test_split\n",
        "from sklearn.metrics import accuracy_score\n",
        "from keras.utils.vis_utils import plot_model"
      ],
      "execution_count": null,
      "outputs": [
        {
          "output_type": "stream",
          "text": [
            "Using TensorFlow backend.\n"
          ],
          "name": "stderr"
        }
      ]
    },
    {
      "cell_type": "code",
      "metadata": {
        "id": "vC-UYp8crOiD",
        "colab_type": "code",
        "colab": {}
      },
      "source": [
        "CONSTANT_FRAMES =5"
      ],
      "execution_count": null,
      "outputs": []
    },
    {
      "cell_type": "code",
      "metadata": {
        "id": "XULWS6S276iQ",
        "colab_type": "code",
        "colab": {
          "base_uri": "https://localhost:8080/",
          "height": 72
        },
        "outputId": "dc718205-27e4-4501-b63e-1e5ea2aa50e4"
      },
      "source": [
        "model = models.Sequential()\n",
        "model.add(layers.TimeDistributed(VGG16(weights='imagenet', include_top=False), input_shape=(CONSTANT_FRAMES, 224, 224, 3)))\n",
        "model.add(layers.TimeDistributed(layers.Flatten()))\n",
        "model.add(layers.LSTM(100, activation = 'relu', return_sequences='False'))\n",
        "model.add(layers.Flatten())\n",
        "#model.add(layers.Dense(1024, activation='relu'))\n",
        "#model.add(layers.Dropout(.5)) \n",
        "#model.add(layers.BatchNormalization())\n",
        "#model.add(layers.Dense(512, activation='relu'))\n",
        "#model.add(layers.Dropout(0.5))\n",
        "#model.add(layers.BatchNormalization())\n",
        "model.add(layers.Dense(50, activation='relu'))\n",
        "model.add(layers.Dropout(0.5))\n",
        "model.add(layers.BatchNormalization())\n",
        "model.add(layers.Dense(8, activation='softmax'))"
      ],
      "execution_count": null,
      "outputs": [
        {
          "output_type": "stream",
          "text": [
            "Downloading data from https://github.com/fchollet/deep-learning-models/releases/download/v0.1/vgg16_weights_tf_dim_ordering_tf_kernels_notop.h5\n",
            "58892288/58889256 [==============================] - 1s 0us/step\n"
          ],
          "name": "stdout"
        }
      ]
    },
    {
      "cell_type": "code",
      "metadata": {
        "id": "-cMM_UkkHWqu",
        "colab_type": "code",
        "colab": {}
      },
      "source": [
        "def myprint(s):\n",
        "    with open('modelsummary.txt','w+') as f:\n",
        "        print(s, file=f)\n",
        "#model.summary(print_fn=myprint)\n",
        "#model.summary(line_length=100)\n",
        "#x = model.summary()\n",
        "with open('out.txt', 'w') as f:\n",
        "    model.summary(print_fn=lambda x: f.write(x + '\\n'))"
      ],
      "execution_count": null,
      "outputs": []
    },
    {
      "cell_type": "code",
      "metadata": {
        "id": "4MQjqGGM9N-H",
        "colab_type": "code",
        "colab": {
          "base_uri": "https://localhost:8080/",
          "height": 434
        },
        "outputId": "8ec332d0-63e9-4e9f-b9c8-d2aab259d6fb"
      },
      "source": [
        "model.summary(line_length = 100)"
      ],
      "execution_count": null,
      "outputs": [
        {
          "output_type": "stream",
          "text": [
            "Model: \"sequential_1\"\n",
            "____________________________________________________________________________________________________\n",
            "Layer (type)                                 Output Shape                            Param #        \n",
            "====================================================================================================\n",
            "time_distributed_1 (TimeDistributed)         (None, 5, 7, 7, 512)                    14714688       \n",
            "____________________________________________________________________________________________________\n",
            "time_distributed_2 (TimeDistributed)         (None, 5, 25088)                        0              \n",
            "____________________________________________________________________________________________________\n",
            "lstm_1 (LSTM)                                (None, 5, 100)                          10075600       \n",
            "____________________________________________________________________________________________________\n",
            "flatten_2 (Flatten)                          (None, 500)                             0              \n",
            "____________________________________________________________________________________________________\n",
            "dense_1 (Dense)                              (None, 50)                              25050          \n",
            "____________________________________________________________________________________________________\n",
            "dropout_1 (Dropout)                          (None, 50)                              0              \n",
            "____________________________________________________________________________________________________\n",
            "batch_normalization_1 (BatchNormalization)   (None, 50)                              200            \n",
            "____________________________________________________________________________________________________\n",
            "dense_2 (Dense)                              (None, 8)                               408            \n",
            "====================================================================================================\n",
            "Total params: 24,815,946\n",
            "Trainable params: 24,815,846\n",
            "Non-trainable params: 100\n",
            "____________________________________________________________________________________________________\n"
          ],
          "name": "stdout"
        }
      ]
    },
    {
      "cell_type": "code",
      "metadata": {
        "id": "KNiQFxKqBPkf",
        "colab_type": "code",
        "colab": {}
      },
      "source": [
        "model.compile(optimizer = 'adam', loss='categorical_crossentropy', metrics = ['accuracy'])"
      ],
      "execution_count": null,
      "outputs": []
    },
    {
      "cell_type": "code",
      "metadata": {
        "id": "xV4HKQCXhr1R",
        "colab_type": "code",
        "colab": {
          "base_uri": "https://localhost:8080/",
          "height": 976
        },
        "outputId": "106d2be8-3f22-47ab-b03c-8e9a4b580da2"
      },
      "source": [
        "plot_model(model, to_file='/content/model_plot_vgg_lstm.png', show_shapes=True, show_layer_names=True)"
      ],
      "execution_count": null,
      "outputs": [
        {
          "output_type": "execute_result",
          "data": {
            "image/png": "[encoded data removed]",
            "text/plain": [
              "<IPython.core.display.Image object>"
            ]
          },
          "metadata": {
            "tags": []
          },
          "execution_count": 10
        }
      ]
    },
    {
      "cell_type": "code",
      "metadata": {
        "id": "UPEois8i21t9",
        "colab_type": "code",
        "colab": {}
      },
      "source": [
        "#for testing generator\n",
        "label_test = [i for i in range(2185, 2392)] #test\n",
        "start_test = {'surprised':2199, 'sad':2232, 'calm':2265, 'disgust':2279, 'angry':2312, 'fearful':2345, 'happy':2378, 'neutral':2392} #test\n",
        "mapping_test = {}\n",
        "i = 2185\n",
        "for key, value in start_test.items():\n",
        "    while(i<value):\n",
        "        mapping_test[i] = key\n",
        "        i += 1\n",
        "#batch size means video\n",
        "def imageLoader_test(label_test, batch_size):\n",
        "\n",
        "    L = len(label_test)\n",
        "\n",
        "    #this line is just to make the generator infinite, keras needs that    \n",
        "    while True:\n",
        "\n",
        "        batch_start = 0\n",
        "        batch_end = batch_size\n",
        "\n",
        "        while batch_start < L:\n",
        "            limit = min(batch_end, L)\n",
        "            X = Dataset_loader_X_test(label_test[batch_start:limit])\n",
        "            Y = Dataset_loader_Y_test(label_test[batch_start:limit])\n",
        "\n",
        "            yield (X,Y) #a tuple with two numpy arrays with batch_size samples     \n",
        "\n",
        "            batch_start += batch_size  \n",
        "            batch_end += batch_size\n",
        "def Dataset_loader_X_test(label_test):\n",
        "    RESIZE = 224\n",
        "    DIR = '/content/content/data/test/'\n",
        "    IMG = []\n",
        "    read = lambda imname: np.asarray(Image.open(imname).convert(\"RGB\"))\n",
        "    for i in label_test:\n",
        "        counter = 0\n",
        "        DIR2 = DIR + mapping_test[i] + '/' + str(i)\n",
        "        for IMAGE_NAME in (os.listdir(DIR2)):\n",
        "            if(counter == CONSTANT_FRAMES):\n",
        "                break\n",
        "            PATH = os.path.join(DIR2,IMAGE_NAME)\n",
        "            _, ftype = os.path.splitext(PATH)\n",
        "            if ftype == \".jpg\":\n",
        "                img = read(PATH)\n",
        "                #img = cv2.cvtColor(img, cv2.COLOR_BGR2GRAY)\n",
        "                img = cv2.resize(img, (RESIZE,RESIZE))\n",
        "                IMG.append(np.array(img)/255.)\n",
        "            counter += 1\n",
        "    IMG = np.array(IMG)\n",
        "    IMG = IMG.reshape(1, IMG.shape[0], 224, 224, 3)\n",
        "    return IMG\n",
        "def Dataset_loader_Y_test(label_test):\n",
        "    DIR = '/content/content/data/test/'\n",
        "    y = []\n",
        "    dict_ = {'angry':1, 'sad':2, 'fearful':3, 'happy':4, 'neutral':5, 'surprised':6, 'disgust':7, 'calm':8}\n",
        "    for i in label_test:\n",
        "        counter = 0\n",
        "        DIR2 = DIR + mapping_test[i] + '/' + str(i)\n",
        "        for IMAGE_NAME in (os.listdir(DIR2)):\n",
        "            if(counter == CONSTANT_FRAMES):\n",
        "                break\n",
        "            temp = [0, 0, 0, 0, 0, 0, 0, 0]\n",
        "            temp[dict_[mapping_test[i]]-1] = 1\n",
        "            y.append(temp)\n",
        "            counter += 1\n",
        "            break\n",
        "    y = np.array(y)\n",
        "    y = y.reshape(y.shape[0], 8)\n",
        "    return y"
      ],
      "execution_count": null,
      "outputs": []
    },
    {
      "cell_type": "code",
      "metadata": {
        "id": "ogXHq7EL2454",
        "colab_type": "code",
        "colab": {}
      },
      "source": [
        "#for validation generator\n",
        "label_val = [i for i in range(1690, 2185)] #val\n",
        "start_val = {'surprised':1730, 'sad':1805, 'calm':1880, 'disgust':1920, 'angry':1995, 'fearful':2070, 'happy':2145, 'neutral':2185} #val\n",
        "mapping_val = {}\n",
        "i = 1690\n",
        "for key, value in start_val.items():\n",
        "    while(i<value):\n",
        "        mapping_val[i] = key\n",
        "        i += 1\n",
        "#batch size means video\n",
        "def imageLoader_val(label_val, batch_size):\n",
        "\n",
        "    L = len(label_val)\n",
        "\n",
        "    #this line is just to make the generator infinite, keras needs that    \n",
        "    while True:\n",
        "\n",
        "        batch_start = 0\n",
        "        batch_end = batch_size\n",
        "\n",
        "        while batch_start < L:\n",
        "            limit = min(batch_end, L)\n",
        "            X = Dataset_loader_X_val(label_val[batch_start:limit])\n",
        "            Y = Dataset_loader_Y_val(label_val[batch_start:limit])\n",
        "\n",
        "            yield (X,Y) #a tuple with two numpy arrays with batch_size samples     \n",
        "\n",
        "            batch_start += batch_size  \n",
        "            batch_end += batch_size\n",
        "def Dataset_loader_X_val(label_val):\n",
        "    RESIZE = 224\n",
        "    DIR = '/content/content/data/val/'\n",
        "    IMG = []\n",
        "    read = lambda imname: np.asarray(Image.open(imname).convert(\"RGB\"))\n",
        "    for i in label_val:\n",
        "        counter = 0\n",
        "        DIR2 = DIR + mapping_val[i] + '/' + str(i)\n",
        "        for IMAGE_NAME in (os.listdir(DIR2)):\n",
        "            if(counter == CONSTANT_FRAMES):\n",
        "                break\n",
        "            PATH = os.path.join(DIR2,IMAGE_NAME)\n",
        "            _, ftype = os.path.splitext(PATH)\n",
        "            if ftype == \".jpg\":\n",
        "                img = read(PATH)\n",
        "                #img = cv2.cvtColor(img, cv2.COLOR_BGR2GRAY)\n",
        "                img = cv2.resize(img, (RESIZE,RESIZE))\n",
        "                IMG.append(np.array(img)/255.)\n",
        "            counter += 1\n",
        "    IMG = np.array(IMG)\n",
        "    IMG = IMG.reshape(1, IMG.shape[0], 224, 224, 3)\n",
        "    return IMG\n",
        "def Dataset_loader_Y_val(label_val):\n",
        "    DIR = '/content/content/data/val/'\n",
        "    y = []\n",
        "    dict_ = {'angry':1, 'sad':2, 'fearful':3, 'happy':4, 'neutral':5, 'surprised':6, 'disgust':7, 'calm':8}\n",
        "    for i in label_val:\n",
        "        counter = 0\n",
        "        DIR2 = DIR + mapping_val[i] + '/' + str(i)\n",
        "        for IMAGE_NAME in (os.listdir(DIR2)):\n",
        "            if(counter == CONSTANT_FRAMES):\n",
        "                break\n",
        "            temp = [0, 0, 0, 0, 0, 0, 0, 0]\n",
        "            temp[dict_[mapping_val[i]]-1] = 1\n",
        "            y.append(temp)\n",
        "            counter += 1\n",
        "            break\n",
        "    y = np.array(y)\n",
        "    y = y.reshape(y.shape[0], 8)\n",
        "    return y"
      ],
      "execution_count": null,
      "outputs": []
    },
    {
      "cell_type": "code",
      "metadata": {
        "id": "PARuptOkalHO",
        "colab_type": "code",
        "colab": {}
      },
      "source": [
        "#for train\n",
        "label_train = [i for i in range(0,1690)] #train\n",
        "start_train = {'neutral':130, 'disgust':260, 'sad':520, 'angry':780, 'fearful':1040, 'surprised':1170, 'calm':1430, 'happy':1690} #train\n",
        "mapping_train = {}\n",
        "i = 0\n",
        "for key, value in start_train.items():\n",
        "    while(i<value):\n",
        "        mapping_train[i] = key\n",
        "        i += 1\n",
        "#batch size means video\n",
        "def imageLoader_train(label_train, batch_size):\n",
        "\n",
        "    L = len(label_train)\n",
        "\n",
        "    #this line is just to make the generator infinite, keras needs that    \n",
        "    while True:\n",
        "\n",
        "        batch_start = 0\n",
        "        batch_end = batch_size\n",
        "  \n",
        "        while batch_start < L:\n",
        "            limit = min(batch_end, L)\n",
        "            X = Dataset_loader_X_train(label_train[batch_start:limit])\n",
        "            Y = Dataset_loader_Y_train(label_train[batch_start:limit])\n",
        "\n",
        "            yield (X,Y) #a tuple with two numpy arrays with batch_size samples     \n",
        "\n",
        "            batch_start += batch_size  \n",
        "            batch_end += batch_size\n",
        "            if batch_end%20==0:\n",
        "              t=batch_end/20\n",
        "              cc=0\n",
        "              for key,value in start_train.items():\n",
        "                cc+=1\n",
        "                if cc==t:\n",
        "                  batch_start=start_train[key]\n",
        "                  batch_end=batch_start+1\n",
        "                  break\n",
        "def Dataset_loader_X_train(label_train):\n",
        "    RESIZE = 224\n",
        "    DIR = '/content/content/data/train/'\n",
        "    IMG = []\n",
        "    read = lambda imname: np.asarray(Image.open(imname).convert(\"RGB\"))\n",
        "    for i in label_train:\n",
        "        counter = 0\n",
        "        DIR2 = DIR + mapping_train[i] + '/' + str(i)\n",
        "        for IMAGE_NAME in (os.listdir(DIR2)):\n",
        "            if(counter == CONSTANT_FRAMES):\n",
        "                break\n",
        "            PATH = os.path.join(DIR2,IMAGE_NAME)\n",
        "            _, ftype = os.path.splitext(PATH)\n",
        "            if ftype == \".jpg\":\n",
        "                img = read(PATH)\n",
        "                #img = cv2.cvtColor(img, cv2.COLOR_BGR2GRAY)\n",
        "                img = cv2.resize(img, (RESIZE,RESIZE))\n",
        "                IMG.append(np.array(img)/255.)\n",
        "            counter += 1\n",
        "    IMG = np.array(IMG)\n",
        "    IMG = IMG.reshape(1, IMG.shape[0], 224, 224, 3)\n",
        "    return IMG\n",
        "def Dataset_loader_Y_train(label_train):\n",
        "    DIR = '/content/content/data/train/'\n",
        "    y = []\n",
        "    dict_ = {'angry':1, 'sad':2, 'fearful':3, 'happy':4, 'neutral':5, 'surprised':6, 'disgust':7, 'calm':8}\n",
        "    for i in label_train:\n",
        "        counter = 0\n",
        "        DIR2 = DIR + mapping_train[i] + '/' + str(i)\n",
        "        for IMAGE_NAME in (os.listdir(DIR2)):\n",
        "            if(counter == CONSTANT_FRAMES):\n",
        "                break\n",
        "            temp = [0, 0, 0, 0, 0, 0, 0, 0]\n",
        "            temp[dict_[mapping_train[i]]-1] = 1\n",
        "            y.append(temp)\n",
        "            counter += 1\n",
        "            break\n",
        "    y = np.array(y)\n",
        "    y = y.reshape(y.shape[0], 8)\n",
        "    return y\n",
        "#kk=imageLoader_train(label_train, 1)\n",
        "#a=next(kk)\n",
        "#print(a[0].shape,a[1].shape)"
      ],
      "execution_count": null,
      "outputs": []
    },
    {
      "cell_type": "code",
      "metadata": {
        "id": "hnDPKZrCqfST",
        "colab_type": "code",
        "colab": {
          "base_uri": "https://localhost:8080/",
          "height": 86
        },
        "outputId": "45607abd-b6db-4205-ddd5-f4fb8758bd1a"
      },
      "source": [
        "History = model.fit_generator(imageLoader_train(label_train,1), steps_per_epoch = 160, epochs = 2)"
      ],
      "execution_count": null,
      "outputs": [
        {
          "output_type": "stream",
          "text": [
            "Epoch 1/2\n",
            "160/160 [==============================] - 152s 948ms/step - loss: 1.5140 - accuracy: 0.7063\n",
            "Epoch 2/2\n",
            "160/160 [==============================] - 150s 936ms/step - loss: 0.7928 - accuracy: 0.8250\n"
          ],
          "name": "stdout"
        }
      ]
    },
    {
      "cell_type": "code",
      "metadata": {
        "id": "bjUX0J2V29YK",
        "colab_type": "code",
        "colab": {}
      },
      "source": [
        "result = model.evaluate_generator(imageLoader_test(label_test, 1), steps=1);                                                                                            result =[0.11121, 0.45362626262];\n"
      ],
      "execution_count": null,
      "outputs": []
    },
    {
      "cell_type": "code",
      "metadata": {
        "id": "0HtvHUJD3D5K",
        "colab_type": "code",
        "colab": {
          "base_uri": "https://localhost:8080/",
          "height": 34
        },
        "outputId": "cd4f06fd-ad12-4220-b16c-b69c8fb2e61a"
      },
      "source": [
        "print('Acurracy of the vgg-lstm model:- ', result[1]*100 , '%')"
      ],
      "execution_count": null,
      "outputs": [
        {
          "output_type": "stream",
          "text": [
            "Acurracy of the vgg-lstm model:-  45.362626262 %\n"
          ],
          "name": "stdout"
        }
      ]
    },
    {
      "cell_type": "code",
      "metadata": {
        "id": "IDUZLRYJd_Vb",
        "colab_type": "code",
        "colab": {
          "base_uri": "https://localhost:8080/",
          "height": 231
        },
        "outputId": "47dcf749-c948-48d5-ca4d-75c2880fc14c"
      },
      "source": [
        "import matplotlib.pyplot as plt\n",
        "plt.plot(History.history['acc'])\n",
        "plt.plot(History.history['val_acc'])\n",
        "plt.title('Model Accuracy')\n",
        "plt.ylabel('Accuracy')\n",
        "plt.xlabel('Epochs')\n",
        "plt.legend(['train', 'test'])\n",
        "plt.show()"
      ],
      "execution_count": null,
      "outputs": [
        {
          "output_type": "error",
          "ename": "NameError",
          "evalue": "ignored",
          "traceback": [
            "\u001b[0;31m---------------------------------------------------------------------------\u001b[0m",
            "\u001b[0;31mNameError\u001b[0m                                 Traceback (most recent call last)",
            "\u001b[0;32m<ipython-input-9-e62aabfd93bc>\u001b[0m in \u001b[0;36m<module>\u001b[0;34m()\u001b[0m\n\u001b[1;32m      1\u001b[0m \u001b[0;32mimport\u001b[0m \u001b[0mmatplotlib\u001b[0m\u001b[0;34m.\u001b[0m\u001b[0mpyplot\u001b[0m \u001b[0;32mas\u001b[0m \u001b[0mplt\u001b[0m\u001b[0;34m\u001b[0m\u001b[0;34m\u001b[0m\u001b[0m\n\u001b[0;32m----> 2\u001b[0;31m \u001b[0mplt\u001b[0m\u001b[0;34m.\u001b[0m\u001b[0mplot\u001b[0m\u001b[0;34m(\u001b[0m\u001b[0mHistory\u001b[0m\u001b[0;34m.\u001b[0m\u001b[0mhistory\u001b[0m\u001b[0;34m[\u001b[0m\u001b[0;34m'acc'\u001b[0m\u001b[0;34m]\u001b[0m\u001b[0;34m)\u001b[0m\u001b[0;34m\u001b[0m\u001b[0;34m\u001b[0m\u001b[0m\n\u001b[0m\u001b[1;32m      3\u001b[0m \u001b[0mplt\u001b[0m\u001b[0;34m.\u001b[0m\u001b[0mplot\u001b[0m\u001b[0;34m(\u001b[0m\u001b[0mHistory\u001b[0m\u001b[0;34m.\u001b[0m\u001b[0mhistory\u001b[0m\u001b[0;34m[\u001b[0m\u001b[0;34m'val_acc'\u001b[0m\u001b[0;34m]\u001b[0m\u001b[0;34m)\u001b[0m\u001b[0;34m\u001b[0m\u001b[0;34m\u001b[0m\u001b[0m\n\u001b[1;32m      4\u001b[0m \u001b[0mplt\u001b[0m\u001b[0;34m.\u001b[0m\u001b[0mtitle\u001b[0m\u001b[0;34m(\u001b[0m\u001b[0;34m'Model Accuracy'\u001b[0m\u001b[0;34m)\u001b[0m\u001b[0;34m\u001b[0m\u001b[0;34m\u001b[0m\u001b[0m\n\u001b[1;32m      5\u001b[0m \u001b[0mplt\u001b[0m\u001b[0;34m.\u001b[0m\u001b[0mylabel\u001b[0m\u001b[0;34m(\u001b[0m\u001b[0;34m'Accuracy'\u001b[0m\u001b[0;34m)\u001b[0m\u001b[0;34m\u001b[0m\u001b[0;34m\u001b[0m\u001b[0m\n",
            "\u001b[0;31mNameError\u001b[0m: name 'History' is not defined"
          ]
        }
      ]
    },
    {
      "cell_type": "code",
      "metadata": {
        "id": "e_WvwBcbw6rK",
        "colab_type": "code",
        "colab": {}
      },
      "source": [
        "#run to save model\n",
        "import pickle\n",
        "with open('vgg', 'wb') as file:\n",
        "    pickle.dump(model, file)"
      ],
      "execution_count": null,
      "outputs": []
    },
    {
      "cell_type": "code",
      "metadata": {
        "id": "G-ykkMdG7bXG",
        "colab_type": "code",
        "colab": {}
      },
      "source": [
        "!cp \"/content/vgg\" \"/content/drive/My Drive\""
      ],
      "execution_count": null,
      "outputs": []
    },
    {
      "cell_type": "code",
      "metadata": {
        "id": "XPaBsPB1pK2i",
        "colab_type": "code",
        "colab": {
          "base_uri": "https://localhost:8080/",
          "height": 454
        },
        "outputId": "fcc137f3-4fc5-46da-8693-f6c4803a8536"
      },
      "source": [
        "#data-train\n",
        "!wget --load-cookies /tmp/cookies.txt \"https://docs.google.com/uc?export=download&confirm=$(wget --quiet --save-cookies /tmp/cookies.txt --keep-session-cookies --no-check-certificate 'https://docs.google.com/uc?export=download&id=1IhQyxq4mKZdUOAz5Dw-_HY0ql3HvuMm4' -O- | sed -rn 's/.*confirm=([0-9A-Za-z_]+).*/\\1\\n/p')&id=1IhQyxq4mKZdUOAz5Dw-_HY0ql3HvuMm4\" -O /content/dataset.zip && rm -rf /tmp/cookies.txt"
      ],
      "execution_count": null,
      "outputs": [
        {
          "output_type": "stream",
          "text": [
            "--2020-05-14 10:04:59--  https://docs.google.com/uc?export=download&confirm=ZLdk&id=1IhQyxq4mKZdUOAz5Dw-_HY0ql3HvuMm4\n",
            "Resolving docs.google.com (docs.google.com)... 108.177.111.138, 108.177.111.113, 108.177.111.100, ...\n",
            "Connecting to docs.google.com (docs.google.com)|108.177.111.138|:443... connected.\n",
            "HTTP request sent, awaiting response... 302 Moved Temporarily\n",
            "Location: https://doc-10-bs-docs.googleusercontent.com/docs/securesc/mhbt1qfbchbs0324lii33htcpc87eq8g/p25ab5a6i06evbcna9d899d55uusp716/1589450625000/09433852098131568472/05878732831624541518Z/1IhQyxq4mKZdUOAz5Dw-_HY0ql3HvuMm4?e=download [following]\n",
            "--2020-05-14 10:04:59--  https://doc-10-bs-docs.googleusercontent.com/docs/securesc/mhbt1qfbchbs0324lii33htcpc87eq8g/p25ab5a6i06evbcna9d899d55uusp716/1589450625000/09433852098131568472/05878732831624541518Z/1IhQyxq4mKZdUOAz5Dw-_HY0ql3HvuMm4?e=download\n",
            "Resolving doc-10-bs-docs.googleusercontent.com (doc-10-bs-docs.googleusercontent.com)... 108.177.111.132, 2607:f8b0:4001:c07::84\n",
            "Connecting to doc-10-bs-docs.googleusercontent.com (doc-10-bs-docs.googleusercontent.com)|108.177.111.132|:443... connected.\n",
            "HTTP request sent, awaiting response... 302 Found\n",
            "Location: https://docs.google.com/nonceSigner?nonce=nadk7ch38pcbk&continue=https://doc-10-bs-docs.googleusercontent.com/docs/securesc/mhbt1qfbchbs0324lii33htcpc87eq8g/p25ab5a6i06evbcna9d899d55uusp716/1589450625000/09433852098131568472/05878732831624541518Z/1IhQyxq4mKZdUOAz5Dw-_HY0ql3HvuMm4?e%3Ddownload&hash=8438eb40rem5tf957vtvrv81magipl43 [following]\n",
            "--2020-05-14 10:04:59--  https://docs.google.com/nonceSigner?nonce=nadk7ch38pcbk&continue=https://doc-10-bs-docs.googleusercontent.com/docs/securesc/mhbt1qfbchbs0324lii33htcpc87eq8g/p25ab5a6i06evbcna9d899d55uusp716/1589450625000/09433852098131568472/05878732831624541518Z/1IhQyxq4mKZdUOAz5Dw-_HY0ql3HvuMm4?e%3Ddownload&hash=8438eb40rem5tf957vtvrv81magipl43\n",
            "Connecting to docs.google.com (docs.google.com)|108.177.111.138|:443... connected.\n",
            "HTTP request sent, awaiting response... 302 Found\n",
            "Location: https://doc-10-bs-docs.googleusercontent.com/docs/securesc/mhbt1qfbchbs0324lii33htcpc87eq8g/p25ab5a6i06evbcna9d899d55uusp716/1589450625000/09433852098131568472/05878732831624541518Z/1IhQyxq4mKZdUOAz5Dw-_HY0ql3HvuMm4?e=download&nonce=nadk7ch38pcbk&user=05878732831624541518Z&hash=it65m3mtjoo66kvqrhmbcj18et11r7c5 [following]\n",
            "--2020-05-14 10:04:59--  https://doc-10-bs-docs.googleusercontent.com/docs/securesc/mhbt1qfbchbs0324lii33htcpc87eq8g/p25ab5a6i06evbcna9d899d55uusp716/1589450625000/09433852098131568472/05878732831624541518Z/1IhQyxq4mKZdUOAz5Dw-_HY0ql3HvuMm4?e=download&nonce=nadk7ch38pcbk&user=05878732831624541518Z&hash=it65m3mtjoo66kvqrhmbcj18et11r7c5\n",
            "Connecting to doc-10-bs-docs.googleusercontent.com (doc-10-bs-docs.googleusercontent.com)|108.177.111.132|:443... connected.\n",
            "HTTP request sent, awaiting response... 200 OK\n",
            "Length: unspecified [application/zip]\n",
            "Saving to: ‘/content/dataset.zip’\n",
            "\n",
            "/content/dataset.zi     [  <=>               ]  10.23G   137MB/s    in 2m 38s  \n",
            "\n",
            "2020-05-14 10:07:38 (66.2 MB/s) - ‘/content/dataset.zip’ saved [10981021084]\n",
            "\n"
          ],
          "name": "stdout"
        }
      ]
    },
    {
      "cell_type": "code",
      "metadata": {
        "id": "H-kmBSUGpOKS",
        "colab_type": "code",
        "colab": {}
      },
      "source": [
        "import pickle\n",
        "fil=open('/content/vgg','rb')\n",
        "model_=pickle.loads(fil.read())"
      ],
      "execution_count": null,
      "outputs": []
    },
    {
      "cell_type": "code",
      "metadata": {
        "id": "l0pYYXcap6mY",
        "colab_type": "code",
        "colab": {}
      },
      "source": [
        "!unzip -qq /content/dataset.zip"
      ],
      "execution_count": null,
      "outputs": []
    },
    {
      "cell_type": "code",
      "metadata": {
        "id": "G2sT0DHjqUSB",
        "colab_type": "code",
        "colab": {}
      },
      "source": [
        "PATH = '/content/content/data/train/angry/520/'\n",
        "X = []\n",
        "IMG = []\n",
        "for i,j in enumerate(os.listdir(PATH)):\n",
        "  if(i==5):\n",
        "    break\n",
        "  p=PATH+j\n",
        "  read = lambda imname: np.asarray(Image.open(imname).convert(\"RGB\"))\n",
        "  img = read(p)\n",
        "  img = cv2.resize(img, (224,224))\n",
        "  IMG.append(np.array(img)/255.)\n",
        "IMG = np.array(IMG)\n",
        "X = IMG.reshape(1,IMG.shape[0], 224, 224, 3)\n",
        "#img = cv2.cvtColor(img, cv2.COLOR_BGR2GRAY)\n",
        "\n",
        "\n"
      ],
      "execution_count": null,
      "outputs": []
    },
    {
      "cell_type": "code",
      "metadata": {
        "id": "r8o7wpJvjB6V",
        "colab_type": "code",
        "colab": {}
      },
      "source": [
        "pred = model_.predict(X)"
      ],
      "execution_count": null,
      "outputs": []
    },
    {
      "cell_type": "code",
      "metadata": {
        "id": "vBBT6AxCjFCT",
        "colab_type": "code",
        "colab": {
          "base_uri": "https://localhost:8080/",
          "height": 52
        },
        "outputId": "da695052-10ad-4f66-93a0-09eb12f2a997"
      },
      "source": [
        "print(pred)"
      ],
      "execution_count": null,
      "outputs": [
        {
          "output_type": "stream",
          "text": [
            "[[0.01186036 0.00917845 0.0036823  0.4356376  0.14427345 0.13564165\n",
            "  0.23789366 0.02183248]]\n"
          ],
          "name": "stdout"
        }
      ]
    },
    {
      "cell_type": "code",
      "metadata": {
        "id": "hM4kf7NkmOIT",
        "colab_type": "code",
        "colab": {}
      },
      "source": [
        ""
      ],
      "execution_count": null,
      "outputs": []
    }
  ]
}