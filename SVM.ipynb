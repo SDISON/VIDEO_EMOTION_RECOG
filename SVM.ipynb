{
  "nbformat": 4,
  "nbformat_minor": 0,
  "metadata": {
    "colab": {
      "name": "SVM",
      "provenance": [],
      "collapsed_sections": []
    },
    "kernelspec": {
      "name": "python3",
      "display_name": "Python 3"
    }
  },
  "cells": [
    {
      "cell_type": "code",
      "metadata": {
        "id": "9TLbSDm7vJXB",
        "colab_type": "code",
        "colab": {
          "base_uri": "https://localhost:8080/",
          "height": 280
        },
        "outputId": "51176041-05b7-4c6c-edb1-e9f416f9d6c0"
      },
      "source": [
        "!pip install mtcnn"
      ],
      "execution_count": null,
      "outputs": [
        {
          "output_type": "stream",
          "text": [
            "Collecting mtcnn\n",
            "\u001b[?25l  Downloading https://files.pythonhosted.org/packages/67/43/abee91792797c609c1bf30f1112117f7a87a713ebaa6ec5201d5555a73ef/mtcnn-0.1.0-py3-none-any.whl (2.3MB)\n",
            "\u001b[K     |████████████████████████████████| 2.3MB 5.1MB/s \n",
            "\u001b[?25hRequirement already satisfied: opencv-python>=4.1.0 in /usr/local/lib/python3.6/dist-packages (from mtcnn) (4.1.2.30)\n",
            "Requirement already satisfied: keras>=2.0.0 in /usr/local/lib/python3.6/dist-packages (from mtcnn) (2.3.1)\n",
            "Requirement already satisfied: numpy>=1.11.3 in /usr/local/lib/python3.6/dist-packages (from opencv-python>=4.1.0->mtcnn) (1.18.4)\n",
            "Requirement already satisfied: scipy>=0.14 in /usr/local/lib/python3.6/dist-packages (from keras>=2.0.0->mtcnn) (1.4.1)\n",
            "Requirement already satisfied: keras-applications>=1.0.6 in /usr/local/lib/python3.6/dist-packages (from keras>=2.0.0->mtcnn) (1.0.8)\n",
            "Requirement already satisfied: pyyaml in /usr/local/lib/python3.6/dist-packages (from keras>=2.0.0->mtcnn) (3.13)\n",
            "Requirement already satisfied: six>=1.9.0 in /usr/local/lib/python3.6/dist-packages (from keras>=2.0.0->mtcnn) (1.12.0)\n",
            "Requirement already satisfied: keras-preprocessing>=1.0.5 in /usr/local/lib/python3.6/dist-packages (from keras>=2.0.0->mtcnn) (1.1.2)\n",
            "Requirement already satisfied: h5py in /usr/local/lib/python3.6/dist-packages (from keras>=2.0.0->mtcnn) (2.10.0)\n",
            "Installing collected packages: mtcnn\n",
            "Successfully installed mtcnn-0.1.0\n"
          ],
          "name": "stdout"
        }
      ]
    },
    {
      "cell_type": "code",
      "metadata": {
        "id": "x51cBjSf1Qdi",
        "colab_type": "code",
        "colab": {}
      },
      "source": [
        "#!wget --load-cookies /tmp/cookies.txt \"https://docs.google.com/uc?export=download&confirm=$(wget --quiet --save-cookies /tmp/cookies.txt --keep-session-cookies --no-check-certificate 'https://docs.google.com/uc?export=download&id=12OCYH698KOcNsW2wlxQTYSW7ar2t1b5I' -O- | sed -rn 's/.*confirm=([0-9A-Za-z_]+).*/\\1\\n/p')&id=12OCYH698KOcNsW2wlxQTYSW7ar2t1b5I\" -O '/content/video.zip' && rm -rf /tmp/cookies.txt"
      ],
      "execution_count": null,
      "outputs": []
    },
    {
      "cell_type": "code",
      "metadata": {
        "id": "trj76vvQQvvp",
        "colab_type": "code",
        "colab": {}
      },
      "source": [
        "#to download video\n",
        "#!wget --no-check-certificate 'https://docs.google.com/uc?export=download&id=1-IoWNP7maywHiBMkfErx0iyjRyD9JKYu' -O vv.mp4"
      ],
      "execution_count": null,
      "outputs": []
    },
    {
      "cell_type": "code",
      "metadata": {
        "id": "j5fLbCwKUiO9",
        "colab_type": "code",
        "colab": {
          "base_uri": "https://localhost:8080/",
          "height": 332
        },
        "outputId": "0d965438-5ed8-4e24-80a0-6c0c29287e98"
      },
      "source": [
        "#to download dat file\n",
        "!wget --no-check-certificate 'https://docs.google.com/uc?export=download&id=1-Ca-r5X8W655Bh0EbuohEizl4XSMv3s3' -O shape_predictor_68_face_landmarks2.dat"
      ],
      "execution_count": null,
      "outputs": [
        {
          "output_type": "stream",
          "text": [
            "--2020-05-26 06:16:23--  https://docs.google.com/uc?export=download&id=1-Ca-r5X8W655Bh0EbuohEizl4XSMv3s3\n",
            "Resolving docs.google.com (docs.google.com)... 74.125.20.113, 74.125.20.100, 74.125.20.139, ...\n",
            "Connecting to docs.google.com (docs.google.com)|74.125.20.113|:443... connected.\n",
            "HTTP request sent, awaiting response... 302 Moved Temporarily\n",
            "Location: https://doc-14-8k-docs.googleusercontent.com/docs/securesc/ha0ro937gcuc7l7deffksulhg5h7mbp1/iibfsc9k4714rtn4mnsbod2phupc3ier/1590473775000/16309236173951571582/*/1-Ca-r5X8W655Bh0EbuohEizl4XSMv3s3?e=download [following]\n",
            "Warning: wildcards not supported in HTTP.\n",
            "--2020-05-26 06:16:28--  https://doc-14-8k-docs.googleusercontent.com/docs/securesc/ha0ro937gcuc7l7deffksulhg5h7mbp1/iibfsc9k4714rtn4mnsbod2phupc3ier/1590473775000/16309236173951571582/*/1-Ca-r5X8W655Bh0EbuohEizl4XSMv3s3?e=download\n",
            "Resolving doc-14-8k-docs.googleusercontent.com (doc-14-8k-docs.googleusercontent.com)... 74.125.20.132, 2607:f8b0:400e:c07::84\n",
            "Connecting to doc-14-8k-docs.googleusercontent.com (doc-14-8k-docs.googleusercontent.com)|74.125.20.132|:443... connected.\n",
            "HTTP request sent, awaiting response... 200 OK\n",
            "Length: unspecified [application/octet-stream]\n",
            "Saving to: ‘shape_predictor_68_face_landmarks2.dat’\n",
            "\n",
            "shape_predictor_68_     [    <=>             ]  95.08M   111MB/s    in 0.9s    \n",
            "\n",
            "2020-05-26 06:16:29 (111 MB/s) - ‘shape_predictor_68_face_landmarks2.dat’ saved [99693937]\n",
            "\n"
          ],
          "name": "stdout"
        }
      ]
    },
    {
      "cell_type": "code",
      "metadata": {
        "id": "pJ61tos2vGKK",
        "colab_type": "code",
        "colab": {
          "base_uri": "https://localhost:8080/",
          "height": 35
        },
        "outputId": "f23768a6-9318-4ba5-8b12-50d1a71716b7"
      },
      "source": [
        "from matplotlib import pyplot\n",
        "from matplotlib.patches import Rectangle\n",
        "from matplotlib.patches import Circle\n",
        "from mtcnn.mtcnn import MTCNN\n",
        "import cv2\n",
        "import os\n",
        "from imutils import face_utils\n",
        "from tqdm import tqdm\n",
        "import dlib\n",
        "import random\n",
        "import numpy as np\n",
        "from sklearn.utils import shuffle\n",
        "from sklearn.model_selection import train_test_split\n",
        "from IPython.display import clear_output\n",
        "from sklearn.metrics import accuracy_score"
      ],
      "execution_count": null,
      "outputs": [
        {
          "output_type": "stream",
          "text": [
            "Using TensorFlow backend.\n"
          ],
          "name": "stderr"
        }
      ]
    },
    {
      "cell_type": "code",
      "metadata": {
        "id": "2okk6RO-xkRI",
        "colab_type": "code",
        "colab": {}
      },
      "source": [
        "#for dividing video to frame\n",
        "def frames(path):\n",
        "    obj = cv2.VideoCapture(path)\n",
        "    count = 0\n",
        "    success = 1\n",
        "    while success:\n",
        "        obj.set(cv2.CAP_PROP_POS_MSEC,(count*1000))\n",
        "        success, image = obj.read()\n",
        "        try:\n",
        "            cv2.imwrite(\"/content/images/frame%d.jpg\" %count, image)\n",
        "        except:\n",
        "            pass\n",
        "        count += 1"
      ],
      "execution_count": null,
      "outputs": []
    },
    {
      "cell_type": "code",
      "metadata": {
        "id": "fTHRdLNznZ2h",
        "colab_type": "code",
        "colab": {}
      },
      "source": [
        ""
      ],
      "execution_count": null,
      "outputs": []
    },
    {
      "cell_type": "code",
      "metadata": {
        "id": "JhsJB8Yqyk_W",
        "colab_type": "code",
        "colab": {}
      },
      "source": [
        "#remove comment when working with videos\n",
        "#frames('/content/vv.mp4')  "
      ],
      "execution_count": null,
      "outputs": []
    },
    {
      "cell_type": "code",
      "metadata": {
        "id": "S85ucYGMvqZc",
        "colab_type": "code",
        "colab": {}
      },
      "source": [
        ""
      ],
      "execution_count": null,
      "outputs": []
    },
    {
      "cell_type": "code",
      "metadata": {
        "id": "_WKAC0jh1rBG",
        "colab_type": "code",
        "colab": {}
      },
      "source": [
        "#draw landmark with red dot on image\n",
        "def draw_landmark(filename, faces, predictor):\n",
        "    pixels = cv2.imread(filename)\n",
        "    pyplot.imshow(pixels)\n",
        "    ax = pyplot.gca()\n",
        "    for i in faces:\n",
        "        rect = i['box']\n",
        "        left = rect[0]\n",
        "        top = rect[1]\n",
        "        right = left + rect[2]\n",
        "        bottom = top + rect[3]\n",
        "        rect = dlib.rectangle(left, top, right, bottom)\n",
        "        shape = predictor(pixels, rect)\n",
        "        shape = face_utils.shape_to_np(shape)\n",
        "        for (x, y) in shape:\n",
        "            dot = Circle((x, y), radius=1, color='red')\n",
        "            ax.add_patch(dot)\n",
        "    pyplot.show()"
      ],
      "execution_count": null,
      "outputs": []
    },
    {
      "cell_type": "code",
      "metadata": {
        "id": "oahdMX43x2Eh",
        "colab_type": "code",
        "colab": {}
      },
      "source": [
        "#function to return landmark array for each image\n",
        "def landmark_array(filename, p):\n",
        "    landmark = []\n",
        "    predictor = dlib.shape_predictor(p)\n",
        "    pixels = cv2.imread(filename)\n",
        "    detector = MTCNN()\n",
        "    faces = detector.detect_faces(pixels)\n",
        "    #draw_landmark(filename, faces, predictor)\n",
        "    rect = ((faces[0])['box'])\n",
        "    left = rect[0]\n",
        "    top = rect[1]\n",
        "    right = left + rect[2]\n",
        "    bottom = top + rect[3]\n",
        "    rect = dlib.rectangle(left, top, right, bottom)\n",
        "    shape = predictor(pixels, rect)\n",
        "    shape = face_utils.shape_to_np(shape)\n",
        "    for (x, y) in shape:\n",
        "        landmark.append(x/pixels.shape[0])\n",
        "        landmark.append(y/pixels.shape[1])\n",
        "    return landmark"
      ],
      "execution_count": null,
      "outputs": []
    },
    {
      "cell_type": "code",
      "metadata": {
        "id": "QGknyu3xwAzo",
        "colab_type": "code",
        "colab": {}
      },
      "source": [
        "#create label array 'y'\n",
        "def label_array(category):\n",
        "    if(category == 'angry'):\n",
        "        return 0\n",
        "    elif(category == 'calm'):\n",
        "        return 1\n",
        "    elif(category == 'disgust'):\n",
        "        return 2\n",
        "    elif(category == 'fearful'):\n",
        "        return 3\n",
        "    elif(category == 'happy'):\n",
        "        return 4\n",
        "    elif(category == 'sad'):\n",
        "        return 5\n",
        "    elif(category == 'neutral'):\n",
        "        return 6\n",
        "    elif(category == 'surprised'):\n",
        "        return 7"
      ],
      "execution_count": null,
      "outputs": []
    },
    {
      "cell_type": "code",
      "metadata": {
        "id": "zKf9wKf_5cOw",
        "colab_type": "code",
        "colab": {}
      },
      "source": [
        "def dataset(X, Y):\n",
        "    path = '/content/content/content/data/test/'\n",
        "    p = '/content/shape_predictor_68_face_landmarks2.dat'\n",
        "    for category in tqdm(os.listdir(path)):\n",
        "        path2 = path + category + '/'\n",
        "        for itr in tqdm(os.listdir(path2)):\n",
        "            path3 = path2 + itr + '/'\n",
        "            for k, file in enumerate(os.listdir(path3)):\n",
        "                if(k==10):\n",
        "                    break\n",
        "                X.append(landmark_array((path3+file), p))\n",
        "                Y.append(label_array(str(category)))\n",
        "    return X, Y"
      ],
      "execution_count": null,
      "outputs": []
    },
    {
      "cell_type": "code",
      "metadata": {
        "id": "-KgQ4nzL-eXn",
        "colab_type": "code",
        "colab": {
          "base_uri": "https://localhost:8080/",
          "height": 1000
        },
        "outputId": "9a0746ec-aa00-4e3a-c95f-be16c0f404d3"
      },
      "source": [
        "# filling X and Y\n",
        "X = []\n",
        "Y = []\n",
        "X, Y = dataset(X, Y)"
      ],
      "execution_count": null,
      "outputs": [
        {
          "output_type": "stream",
          "text": [
            "\n",
            "\n",
            "  0%|          | 0/8 [00:00<?, ?it/s]\u001b[A\u001b[A\n",
            "\n",
            "\n",
            "  0%|          | 0/14 [00:00<?, ?it/s]\u001b[A\u001b[A\u001b[A\n",
            "\n",
            "\n",
            "  7%|▋         | 1/14 [00:18<03:55, 18.13s/it]\u001b[A\u001b[A\u001b[A\n",
            "\n",
            "\n",
            " 14%|█▍        | 2/14 [00:35<03:36, 18.04s/it]\u001b[A\u001b[A\u001b[A\n",
            "\n",
            "\n",
            " 21%|██▏       | 3/14 [00:53<03:18, 18.00s/it]\u001b[A\u001b[A\u001b[A\n",
            "\n",
            "\n",
            " 29%|██▊       | 4/14 [01:11<03:00, 18.04s/it]\u001b[A\u001b[A\u001b[A\n",
            "\n",
            "\n",
            " 36%|███▌      | 5/14 [01:30<02:42, 18.05s/it]\u001b[A\u001b[A\u001b[A\n",
            "\n",
            "\n",
            " 43%|████▎     | 6/14 [01:48<02:24, 18.10s/it]\u001b[A\u001b[A\u001b[A\n",
            "\n",
            "\n",
            " 50%|█████     | 7/14 [02:07<02:08, 18.37s/it]\u001b[A\u001b[A\u001b[A\n",
            "\n",
            "\n",
            " 57%|█████▋    | 8/14 [02:25<01:49, 18.33s/it]\u001b[A\u001b[A\u001b[A\n",
            "\n",
            "\n",
            " 64%|██████▍   | 9/14 [02:44<01:31, 18.39s/it]\u001b[A\u001b[A\u001b[A\n",
            "\n",
            "\n",
            " 71%|███████▏  | 10/14 [03:02<01:13, 18.48s/it]\u001b[A\u001b[A\u001b[A\n",
            "\n",
            "\n",
            " 79%|███████▊  | 11/14 [03:22<00:56, 18.72s/it]\u001b[A\u001b[A\u001b[A\n",
            "\n",
            "\n",
            " 86%|████████▌ | 12/14 [03:41<00:37, 18.86s/it]\u001b[A\u001b[A\u001b[A\n",
            "\n",
            "\n",
            " 93%|█████████▎| 13/14 [04:00<00:18, 18.96s/it]\u001b[A\u001b[A\u001b[A\n",
            "\n",
            "\n",
            "100%|██████████| 14/14 [04:20<00:00, 18.61s/it]\n",
            "\n",
            "\n",
            " 12%|█▎        | 1/8 [04:20<30:24, 260.58s/it]\u001b[A\u001b[A\n",
            "\n",
            "\n",
            "  0%|          | 0/33 [00:00<?, ?it/s]\u001b[A\u001b[A\u001b[A\n",
            "\n",
            "\n",
            "  3%|▎         | 1/33 [00:19<10:18, 19.32s/it]\u001b[A\u001b[A\u001b[A\n",
            "\n",
            "\n",
            "  6%|▌         | 2/33 [00:38<09:59, 19.32s/it]\u001b[A\u001b[A\u001b[A\n",
            "\n",
            "\n",
            "  9%|▉         | 3/33 [00:58<09:42, 19.41s/it]\u001b[A\u001b[A\u001b[A\n",
            "\n",
            "\n",
            " 12%|█▏        | 4/33 [01:17<09:24, 19.47s/it]\u001b[A\u001b[A\u001b[A\n",
            "\n",
            "\n",
            " 15%|█▌        | 5/33 [01:37<09:06, 19.51s/it]\u001b[A\u001b[A\u001b[A\n",
            "\n",
            "\n",
            " 18%|█▊        | 6/33 [01:57<08:53, 19.78s/it]\u001b[A\u001b[A\u001b[A\n",
            "\n",
            "\n",
            " 21%|██        | 7/33 [02:17<08:33, 19.75s/it]\u001b[A\u001b[A\u001b[A\n",
            "\n",
            "\n",
            " 24%|██▍       | 8/33 [02:37<08:15, 19.81s/it]\u001b[A\u001b[A\u001b[A\n",
            "\n",
            "\n",
            " 27%|██▋       | 9/33 [02:57<07:56, 19.85s/it]\u001b[A\u001b[A\u001b[A\n",
            "\n",
            "\n",
            " 30%|███       | 10/33 [03:17<07:36, 19.86s/it]\u001b[A\u001b[A\u001b[A\n",
            "\n",
            "\n",
            " 33%|███▎      | 11/33 [03:38<07:22, 20.13s/it]\u001b[A\u001b[A\u001b[A\n",
            "\n",
            "\n",
            " 36%|███▋      | 12/33 [03:58<07:01, 20.08s/it]\u001b[A\u001b[A\u001b[A\n",
            "\n",
            "\n",
            " 39%|███▉      | 13/33 [04:18<06:40, 20.05s/it]\u001b[A\u001b[A\u001b[A\n",
            "\n",
            "\n",
            " 42%|████▏     | 14/33 [04:38<06:21, 20.06s/it]\u001b[A\u001b[A\u001b[A\n",
            "\n",
            "\n",
            " 45%|████▌     | 15/33 [04:58<06:02, 20.13s/it]\u001b[A\u001b[A\u001b[A\n",
            "\n",
            "\n",
            " 48%|████▊     | 16/33 [05:19<05:47, 20.44s/it]\u001b[A\u001b[A\u001b[A\n",
            "\n",
            "\n",
            " 52%|█████▏    | 17/33 [05:40<05:27, 20.45s/it]\u001b[A\u001b[A\u001b[A\n",
            "\n",
            "\n",
            " 55%|█████▍    | 18/33 [06:00<05:06, 20.44s/it]\u001b[A\u001b[A\u001b[A\n",
            "\n",
            "\n",
            " 58%|█████▊    | 19/33 [06:21<04:46, 20.48s/it]\u001b[A\u001b[A\u001b[A\n",
            "\n",
            "\n",
            " 61%|██████    | 20/33 [06:41<04:26, 20.53s/it]\u001b[A\u001b[A\u001b[A\n",
            "\n",
            "\n",
            " 64%|██████▎   | 21/33 [07:03<04:10, 20.87s/it]\u001b[A\u001b[A\u001b[A\n",
            "\n",
            "\n",
            " 67%|██████▋   | 22/33 [07:24<03:49, 20.84s/it]\u001b[A\u001b[A\u001b[A\n",
            "\n",
            "\n",
            " 70%|██████▉   | 23/33 [07:44<03:27, 20.80s/it]\u001b[A\u001b[A\u001b[A\n",
            "\n",
            "\n",
            " 73%|███████▎  | 24/33 [08:05<03:07, 20.86s/it]\u001b[A\u001b[A\u001b[A\n",
            "\n",
            "\n",
            " 76%|███████▌  | 25/33 [08:27<02:49, 21.16s/it]\u001b[A\u001b[A\u001b[A\n",
            "\n",
            "\n",
            " 79%|███████▉  | 26/33 [08:48<02:28, 21.18s/it]\u001b[A\u001b[A\u001b[A\n",
            "\n",
            "\n",
            " 82%|████████▏ | 27/33 [09:10<02:07, 21.18s/it]\u001b[A\u001b[A\u001b[A\n",
            "\n",
            "\n",
            " 85%|████████▍ | 28/33 [09:31<01:45, 21.15s/it]\u001b[A\u001b[A\u001b[A\n",
            "\n",
            "\n",
            " 88%|████████▊ | 29/33 [09:53<01:25, 21.47s/it]\u001b[A\u001b[A\u001b[A\n",
            "\n",
            "\n",
            " 91%|█████████ | 30/33 [10:14<01:04, 21.42s/it]\u001b[A\u001b[A\u001b[A\n",
            "\n",
            "\n",
            " 94%|█████████▍| 31/33 [10:36<00:42, 21.45s/it]\u001b[A\u001b[A\u001b[A\n",
            "\n",
            "\n",
            " 97%|█████████▋| 32/33 [10:57<00:21, 21.41s/it]\u001b[A\u001b[A\u001b[A\n",
            "\n",
            "\n",
            "100%|██████████| 33/33 [11:20<00:00, 20.61s/it]\n",
            "\n",
            "\n",
            " 25%|██▌       | 2/8 [15:40<38:38, 386.47s/it]\u001b[A\u001b[A\n",
            "\n",
            "\n",
            "  0%|          | 0/33 [00:00<?, ?it/s]\u001b[A\u001b[A\u001b[A\n",
            "\n",
            "\n",
            "  3%|▎         | 1/33 [00:21<11:25, 21.43s/it]\u001b[A\u001b[A\u001b[A\n",
            "\n",
            "\n",
            "  6%|▌         | 2/33 [00:42<11:03, 21.39s/it]\u001b[A\u001b[A\u001b[A\n",
            "\n",
            "\n",
            "  9%|▉         | 3/33 [01:05<10:52, 21.75s/it]\u001b[A\u001b[A\u001b[A\n",
            "\n",
            "\n",
            " 12%|█▏        | 4/33 [01:26<10:26, 21.62s/it]\u001b[A\u001b[A\u001b[A\n",
            "\n",
            "\n",
            " 15%|█▌        | 5/33 [01:48<10:05, 21.61s/it]\u001b[A\u001b[A\u001b[A\n",
            "\n",
            "\n",
            " 18%|█▊        | 6/33 [02:09<09:42, 21.58s/it]\u001b[A\u001b[A\u001b[A\n",
            "\n",
            "\n",
            " 21%|██        | 7/33 [02:32<09:30, 21.96s/it]\u001b[A\u001b[A\u001b[A\n",
            "\n",
            "\n",
            " 24%|██▍       | 8/33 [02:55<09:14, 22.18s/it]\u001b[A\u001b[A\u001b[A\n",
            "\n",
            "\n",
            " 27%|██▋       | 9/33 [03:17<08:49, 22.05s/it]\u001b[A\u001b[A\u001b[A\n",
            "\n",
            "\n",
            " 30%|███       | 10/33 [03:39<08:33, 22.31s/it]\u001b[A\u001b[A\u001b[A\n",
            "\n",
            "\n",
            " 33%|███▎      | 11/33 [04:01<08:08, 22.18s/it]\u001b[A\u001b[A\u001b[A\n",
            "\n",
            "\n",
            " 36%|███▋      | 12/33 [04:23<07:44, 22.11s/it]\u001b[A\u001b[A\u001b[A\n",
            "\n",
            "\n",
            " 39%|███▉      | 13/33 [04:45<07:21, 22.06s/it]\u001b[A\u001b[A\u001b[A\n",
            "\n",
            "\n",
            " 42%|████▏     | 14/33 [05:09<07:07, 22.47s/it]\u001b[A\u001b[A\u001b[A\n",
            "\n",
            "\n",
            " 45%|████▌     | 15/33 [05:31<06:43, 22.42s/it]\u001b[A\u001b[A\u001b[A\n",
            "\n",
            "\n",
            " 48%|████▊     | 16/33 [05:54<06:21, 22.47s/it]\u001b[A\u001b[A\u001b[A\n",
            "\n",
            "\n",
            " 52%|█████▏    | 17/33 [06:17<06:05, 22.84s/it]\u001b[A\u001b[A\u001b[A\n",
            "\n",
            "\n",
            " 55%|█████▍    | 18/33 [06:40<05:41, 22.78s/it]\u001b[A\u001b[A\u001b[A\n",
            "\n",
            "\n",
            " 58%|█████▊    | 19/33 [07:02<05:18, 22.71s/it]\u001b[A\u001b[A\u001b[A\n",
            "\n",
            "\n",
            " 61%|██████    | 20/33 [07:26<05:00, 23.10s/it]\u001b[A\u001b[A\u001b[A\n",
            "\n",
            "\n",
            " 64%|██████▎   | 21/33 [07:49<04:35, 22.95s/it]\u001b[A\u001b[A\u001b[A\n",
            "\n",
            "\n",
            " 67%|██████▋   | 22/33 [08:12<04:12, 22.93s/it]\u001b[A\u001b[A\u001b[A\n",
            "\n",
            "\n",
            " 70%|██████▉   | 23/33 [08:35<03:48, 22.87s/it]\u001b[A\u001b[A\u001b[A\n",
            "\n",
            "\n",
            " 73%|███████▎  | 24/33 [08:59<03:29, 23.25s/it]\u001b[A\u001b[A\u001b[A\n",
            "\n",
            "\n",
            " 76%|███████▌  | 25/33 [09:22<03:05, 23.21s/it]\u001b[A\u001b[A\u001b[A\n",
            "\n",
            "\n",
            " 79%|███████▉  | 26/33 [09:45<02:41, 23.12s/it]\u001b[A\u001b[A\u001b[A\n",
            "\n",
            "\n",
            " 82%|████████▏ | 27/33 [10:09<02:21, 23.52s/it]\u001b[A\u001b[A\u001b[A\n",
            "\n",
            "\n",
            " 85%|████████▍ | 28/33 [10:32<01:56, 23.37s/it]\u001b[A\u001b[A\u001b[A\n",
            "\n",
            "\n",
            " 88%|████████▊ | 29/33 [10:55<01:33, 23.31s/it]\u001b[A\u001b[A\u001b[A\n",
            "\n",
            "\n",
            " 91%|█████████ | 30/33 [11:20<01:11, 23.69s/it]\u001b[A\u001b[A\u001b[A\n",
            "\n",
            "\n",
            " 94%|█████████▍| 31/33 [11:43<00:47, 23.55s/it]\u001b[A\u001b[A\u001b[A\n",
            "\n",
            "\n",
            " 97%|█████████▋| 32/33 [12:07<00:23, 23.48s/it]\u001b[A\u001b[A\u001b[A\n",
            "\n",
            "\n",
            "100%|██████████| 33/33 [12:31<00:00, 22.78s/it]\n",
            "\n",
            "\n",
            " 38%|███▊      | 3/8 [28:12<41:20, 496.04s/it]\u001b[A\u001b[A\n",
            "\n",
            "\n",
            "  0%|          | 0/14 [00:00<?, ?it/s]\u001b[A\u001b[A\u001b[A\n",
            "\n",
            "\n",
            "  7%|▋         | 1/14 [00:23<05:02, 23.29s/it]\u001b[A\u001b[A\u001b[A\n",
            "\n",
            "\n",
            " 14%|█▍        | 2/14 [00:46<04:39, 23.32s/it]\u001b[A\u001b[A\u001b[A\n",
            "\n",
            "\n",
            " 21%|██▏       | 3/14 [01:11<04:20, 23.70s/it]\u001b[A\u001b[A\u001b[A"
          ],
          "name": "stderr"
        },
        {
          "output_type": "error",
          "ename": "IndexError",
          "evalue": "ignored",
          "traceback": [
            "\u001b[0;31m---------------------------------------------------------------------------\u001b[0m",
            "\u001b[0;31mIndexError\u001b[0m                                Traceback (most recent call last)",
            "\u001b[0;32m<ipython-input-102-4593ae2e0dc2>\u001b[0m in \u001b[0;36m<module>\u001b[0;34m()\u001b[0m\n\u001b[1;32m      2\u001b[0m \u001b[0mX\u001b[0m \u001b[0;34m=\u001b[0m \u001b[0;34m[\u001b[0m\u001b[0;34m]\u001b[0m\u001b[0;34m\u001b[0m\u001b[0;34m\u001b[0m\u001b[0m\n\u001b[1;32m      3\u001b[0m \u001b[0mY\u001b[0m \u001b[0;34m=\u001b[0m \u001b[0;34m[\u001b[0m\u001b[0;34m]\u001b[0m\u001b[0;34m\u001b[0m\u001b[0;34m\u001b[0m\u001b[0m\n\u001b[0;32m----> 4\u001b[0;31m \u001b[0mX\u001b[0m\u001b[0;34m,\u001b[0m \u001b[0mY\u001b[0m \u001b[0;34m=\u001b[0m \u001b[0mdataset\u001b[0m\u001b[0;34m(\u001b[0m\u001b[0mX\u001b[0m\u001b[0;34m,\u001b[0m \u001b[0mY\u001b[0m\u001b[0;34m)\u001b[0m\u001b[0;34m\u001b[0m\u001b[0;34m\u001b[0m\u001b[0m\n\u001b[0m",
            "\u001b[0;32m<ipython-input-101-2a7dda048802>\u001b[0m in \u001b[0;36mdataset\u001b[0;34m(X, Y)\u001b[0m\n\u001b[1;32m      9\u001b[0m                 \u001b[0;32mif\u001b[0m\u001b[0;34m(\u001b[0m\u001b[0mk\u001b[0m\u001b[0;34m==\u001b[0m\u001b[0;36m10\u001b[0m\u001b[0;34m)\u001b[0m\u001b[0;34m:\u001b[0m\u001b[0;34m\u001b[0m\u001b[0;34m\u001b[0m\u001b[0m\n\u001b[1;32m     10\u001b[0m                     \u001b[0;32mbreak\u001b[0m\u001b[0;34m\u001b[0m\u001b[0;34m\u001b[0m\u001b[0m\n\u001b[0;32m---> 11\u001b[0;31m                 \u001b[0mX\u001b[0m\u001b[0;34m.\u001b[0m\u001b[0mappend\u001b[0m\u001b[0;34m(\u001b[0m\u001b[0mlandmark_array\u001b[0m\u001b[0;34m(\u001b[0m\u001b[0;34m(\u001b[0m\u001b[0mpath3\u001b[0m\u001b[0;34m+\u001b[0m\u001b[0mfile\u001b[0m\u001b[0;34m)\u001b[0m\u001b[0;34m,\u001b[0m \u001b[0mp\u001b[0m\u001b[0;34m)\u001b[0m\u001b[0;34m)\u001b[0m\u001b[0;34m\u001b[0m\u001b[0;34m\u001b[0m\u001b[0m\n\u001b[0m\u001b[1;32m     12\u001b[0m                 \u001b[0mY\u001b[0m\u001b[0;34m.\u001b[0m\u001b[0mappend\u001b[0m\u001b[0;34m(\u001b[0m\u001b[0mlabel_array\u001b[0m\u001b[0;34m(\u001b[0m\u001b[0mstr\u001b[0m\u001b[0;34m(\u001b[0m\u001b[0mcategory\u001b[0m\u001b[0;34m)\u001b[0m\u001b[0;34m)\u001b[0m\u001b[0;34m)\u001b[0m\u001b[0;34m\u001b[0m\u001b[0;34m\u001b[0m\u001b[0m\n\u001b[1;32m     13\u001b[0m     \u001b[0;32mreturn\u001b[0m \u001b[0mX\u001b[0m\u001b[0;34m,\u001b[0m \u001b[0mY\u001b[0m\u001b[0;34m\u001b[0m\u001b[0;34m\u001b[0m\u001b[0m\n",
            "\u001b[0;32m<ipython-input-99-2b1a7e57bf8d>\u001b[0m in \u001b[0;36mlandmark_array\u001b[0;34m(filename, p)\u001b[0m\n\u001b[1;32m      7\u001b[0m     \u001b[0mfaces\u001b[0m \u001b[0;34m=\u001b[0m \u001b[0mdetector\u001b[0m\u001b[0;34m.\u001b[0m\u001b[0mdetect_faces\u001b[0m\u001b[0;34m(\u001b[0m\u001b[0mpixels\u001b[0m\u001b[0;34m)\u001b[0m\u001b[0;34m\u001b[0m\u001b[0;34m\u001b[0m\u001b[0m\n\u001b[1;32m      8\u001b[0m     \u001b[0;31m#draw_landmark(filename, faces, predictor)\u001b[0m\u001b[0;34m\u001b[0m\u001b[0;34m\u001b[0m\u001b[0;34m\u001b[0m\u001b[0m\n\u001b[0;32m----> 9\u001b[0;31m     \u001b[0mrect\u001b[0m \u001b[0;34m=\u001b[0m \u001b[0;34m(\u001b[0m\u001b[0;34m(\u001b[0m\u001b[0mfaces\u001b[0m\u001b[0;34m[\u001b[0m\u001b[0;36m0\u001b[0m\u001b[0;34m]\u001b[0m\u001b[0;34m)\u001b[0m\u001b[0;34m[\u001b[0m\u001b[0;34m'box'\u001b[0m\u001b[0;34m]\u001b[0m\u001b[0;34m)\u001b[0m\u001b[0;34m\u001b[0m\u001b[0;34m\u001b[0m\u001b[0m\n\u001b[0m\u001b[1;32m     10\u001b[0m     \u001b[0mleft\u001b[0m \u001b[0;34m=\u001b[0m \u001b[0mrect\u001b[0m\u001b[0;34m[\u001b[0m\u001b[0;36m0\u001b[0m\u001b[0;34m]\u001b[0m\u001b[0;34m\u001b[0m\u001b[0;34m\u001b[0m\u001b[0m\n\u001b[1;32m     11\u001b[0m     \u001b[0mtop\u001b[0m \u001b[0;34m=\u001b[0m \u001b[0mrect\u001b[0m\u001b[0;34m[\u001b[0m\u001b[0;36m1\u001b[0m\u001b[0;34m]\u001b[0m\u001b[0;34m\u001b[0m\u001b[0;34m\u001b[0m\u001b[0m\n",
            "\u001b[0;31mIndexError\u001b[0m: list index out of range"
          ]
        }
      ]
    },
    {
      "cell_type": "code",
      "metadata": {
        "id": "4eNqrXkL-iGy",
        "colab_type": "code",
        "colab": {}
      },
      "source": [
        "# shuffling array's\n",
        "X = np.array(X)\n",
        "Y = np.array(Y)\n",
        "X, Y = shuffle(X, Y, random_state=0)"
      ],
      "execution_count": null,
      "outputs": []
    },
    {
      "cell_type": "code",
      "metadata": {
        "id": "--nCAWfxKR00",
        "colab_type": "code",
        "colab": {
          "base_uri": "https://localhost:8080/",
          "height": 51
        },
        "outputId": "7a65be39-3b87-468d-a370-3b07636bc64d"
      },
      "source": [
        "print(X.shape)\n",
        "print(Y.shape)"
      ],
      "execution_count": null,
      "outputs": [
        {
          "output_type": "stream",
          "text": [
            "(833, 136)\n",
            "(833,)\n"
          ],
          "name": "stdout"
        }
      ]
    },
    {
      "cell_type": "code",
      "metadata": {
        "id": "5j4Iw0P6-2O6",
        "colab_type": "code",
        "colab": {}
      },
      "source": [
        "X_train, X_test, Y_train, Y_test = train_test_split(X, Y, test_size = 0.25, random_state = 0)"
      ],
      "execution_count": null,
      "outputs": []
    },
    {
      "cell_type": "code",
      "metadata": {
        "id": "GQPITPm7A5qB",
        "colab_type": "code",
        "colab": {
          "base_uri": "https://localhost:8080/",
          "height": 85
        },
        "outputId": "2bd4359a-e729-4078-bce0-31bc7d705d4b"
      },
      "source": [
        "from sklearn.svm import SVC\n",
        "classifier = SVC(kernel = 'rbf', random_state = 0)\n",
        "classifier.fit(X_train, Y_train)"
      ],
      "execution_count": null,
      "outputs": [
        {
          "output_type": "execute_result",
          "data": {
            "text/plain": [
              "SVC(C=1.0, break_ties=False, cache_size=200, class_weight=None, coef0=0.0,\n",
              "    decision_function_shape='ovr', degree=3, gamma='scale', kernel='rbf',\n",
              "    max_iter=-1, probability=False, random_state=0, shrinking=True, tol=0.001,\n",
              "    verbose=False)"
            ]
          },
          "metadata": {
            "tags": []
          },
          "execution_count": 106
        }
      ]
    },
    {
      "cell_type": "code",
      "metadata": {
        "id": "XxVjJSpYCGUE",
        "colab_type": "code",
        "colab": {}
      },
      "source": [
        "Y_pred = classifier.predict(X_test)"
      ],
      "execution_count": null,
      "outputs": []
    },
    {
      "cell_type": "code",
      "metadata": {
        "id": "pS__mmWrCl_J",
        "colab_type": "code",
        "colab": {}
      },
      "source": [
        "from sklearn.metrics import confusion_matrix\n",
        "cm = confusion_matrix(Y_test, Y_pred)"
      ],
      "execution_count": null,
      "outputs": []
    },
    {
      "cell_type": "code",
      "metadata": {
        "id": "YNlTFpt4Cqx3",
        "colab_type": "code",
        "colab": {}
      },
      "source": [
        "#print(cm)"
      ],
      "execution_count": null,
      "outputs": []
    },
    {
      "cell_type": "code",
      "metadata": {
        "id": "fXdU45NiCsu7",
        "colab_type": "code",
        "colab": {
          "base_uri": "https://localhost:8080/",
          "height": 34
        },
        "outputId": "c1a04a21-c3aa-4920-adef-628dca691e78"
      },
      "source": [
        "print(accuracy_score(Y_test, Y_pred))"
      ],
      "execution_count": null,
      "outputs": [
        {
          "output_type": "stream",
          "text": [
            "0.6028708133971292\n"
          ],
          "name": "stdout"
        }
      ]
    },
    {
      "cell_type": "code",
      "metadata": {
        "id": "-JwzCeQvNRZQ",
        "colab_type": "code",
        "colab": {
          "base_uri": "https://localhost:8080/",
          "height": 85
        },
        "outputId": "117fee2c-6f41-4450-eac7-786b49c986c9"
      },
      "source": [
        "print(cm)"
      ],
      "execution_count": null,
      "outputs": [
        {
          "output_type": "stream",
          "text": [
            "[[69  0 10  0]\n",
            " [ 0  0  5  0]\n",
            " [28  0 57  0]\n",
            " [32  0  8  0]]\n"
          ],
          "name": "stdout"
        }
      ]
    },
    {
      "cell_type": "code",
      "metadata": {
        "id": "Z-tLpKt7l3D-",
        "colab_type": "code",
        "colab": {}
      },
      "source": [
        "import pickle"
      ],
      "execution_count": null,
      "outputs": []
    },
    {
      "cell_type": "code",
      "metadata": {
        "id": "7V1_i4xcmfBm",
        "colab_type": "code",
        "colab": {}
      },
      "source": [
        "with open('modelsvm', 'wb') as file:\n",
        "    pickle.dump(classifier, file)\n",
        "    file.close()"
      ],
      "execution_count": null,
      "outputs": []
    },
    {
      "cell_type": "code",
      "metadata": {
        "id": "d_0A41hOmmHX",
        "colab_type": "code",
        "colab": {}
      },
      "source": [
        "#!cp '/content/drive/My Drive/data_test.zip' '/content'"
      ],
      "execution_count": null,
      "outputs": []
    },
    {
      "cell_type": "code",
      "metadata": {
        "id": "WH7rFAYbFwVC",
        "colab_type": "code",
        "colab": {}
      },
      "source": [
        "#!unzip -qq '/content/data_test.zip'"
      ],
      "execution_count": null,
      "outputs": []
    },
    {
      "cell_type": "code",
      "metadata": {
        "id": "CH6JxTy8F-18",
        "colab_type": "code",
        "colab": {
          "base_uri": "https://localhost:8080/",
          "height": 34
        },
        "outputId": "5dd310d3-51f6-4d81-9ab0-22f48376aa88"
      },
      "source": [
        "print(np.unique(Y))"
      ],
      "execution_count": null,
      "outputs": [
        {
          "output_type": "stream",
          "text": [
            "[1 2 5 6]\n"
          ],
          "name": "stdout"
        }
      ]
    },
    {
      "cell_type": "code",
      "metadata": {
        "id": "NOETayjmbEtO",
        "colab_type": "code",
        "colab": {}
      },
      "source": [
        "#here code for model loading and testing one image"
      ],
      "execution_count": null,
      "outputs": []
    },
    {
      "cell_type": "code",
      "metadata": {
        "id": "8IS72PuqWC04",
        "colab_type": "code",
        "colab": {}
      },
      "source": [
        "import pickle\n",
        "fil = open('/content/modelsvm', 'rb') \n",
        "model_ = pickle.loads(fil.read()) \n",
        "fil.close()"
      ],
      "execution_count": null,
      "outputs": []
    },
    {
      "cell_type": "code",
      "metadata": {
        "id": "biVSzAZcsGxW",
        "colab_type": "code",
        "colab": {}
      },
      "source": [
        ""
      ],
      "execution_count": null,
      "outputs": []
    },
    {
      "cell_type": "code",
      "metadata": {
        "id": "6-KK73jyZuk-",
        "colab_type": "code",
        "colab": {}
      },
      "source": [
        "X = []\n",
        "X.append(landmark_array('/content/frame16.jpg', '/content/shape_predictor_68_face_landmarks2.dat'))"
      ],
      "execution_count": null,
      "outputs": []
    },
    {
      "cell_type": "code",
      "metadata": {
        "id": "9rxJPpnCaiRw",
        "colab_type": "code",
        "colab": {}
      },
      "source": [
        "X = np.array(X)"
      ],
      "execution_count": null,
      "outputs": []
    },
    {
      "cell_type": "code",
      "metadata": {
        "id": "5vE08mDOamgw",
        "colab_type": "code",
        "colab": {}
      },
      "source": [
        "Y = model_.predict(X)"
      ],
      "execution_count": null,
      "outputs": []
    },
    {
      "cell_type": "code",
      "metadata": {
        "id": "iPF10Us1ap4E",
        "colab_type": "code",
        "colab": {
          "base_uri": "https://localhost:8080/",
          "height": 35
        },
        "outputId": "e1dea924-0f82-40be-9ec7-067276e7ec53"
      },
      "source": [
        "print(Y)"
      ],
      "execution_count": null,
      "outputs": [
        {
          "output_type": "stream",
          "text": [
            "[1]\n"
          ],
          "name": "stdout"
        }
      ]
    },
    {
      "cell_type": "code",
      "metadata": {
        "id": "-kP8G-oba2EE",
        "colab_type": "code",
        "colab": {}
      },
      "source": [
        ""
      ],
      "execution_count": null,
      "outputs": []
    }
  ]
}